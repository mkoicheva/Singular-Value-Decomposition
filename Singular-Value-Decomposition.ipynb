{
 "cells": [
  {
   "cell_type": "markdown",
   "id": "6bd935ab-f848-48ba-a973-7af29d01326f",
   "metadata": {},
   "source": [
    "# Test project\n",
    "## 1. Math description\n",
    "1. If there are vectors $u$ and $v$ that can be described as below formulation, the vectors $u$ and $v$ are called singular vectors. $\\sigma$ is a singular value.\n",
    "$$ Av = \\sigma u$$\n",
    "2. Orthogonal vectors/matrix - def\n",
    "3. Diagonal matrix - def\n",
    "4. \n",
    "5. Left/Right singular vectors - def\n",
    "6. \n",
    "\n",
    "7. Difference between SVD and Eigendecomposition ( $A = PDP^t$ ) \n",
    "P - orthogonal matrix and orthodonal eigenvectors of A \n",
    "D - diagonal matrix whose entries are the eigenvalues of A\n",
    "\n",
    "The critical difference between SVD and Eigendecomposition is Eigendecomposition only applies to the square matrix. Moreover, while SVD has two different matrices(U and V) in the formula, the Eigendecomposition has only one matrix(P). \n",
    "\n",
    "## 2. SVD math\n",
    "1. Let $ X$ be $n$ x $m$ matrix of rank $p$ , p <= min(m,n)\n",
    "2. $U$ - unitary matrix $n \\times n$ $(UU^t = U^tU = \\mathbb{I})$ - left singular vectors matrix\n",
    "3. $\\Sigma$ - rectangular diagonal matrix $n \\times m$, without non-negative real numbers on the diagonal, high hierarchical orderd $(\\sigma_1 \\geq \\cdots \\geq \\sigma_m \\geq 0)$ - matrix of singular vaalues \n",
    "4. $V$ - unitary matrix $m \\times m$ $(VV^t = V^tV = \\mathbb{I})$ - right singular vectors matrix\n",
    "5. $X = U\\Sigma V^t = \\sigma_1u_1v_1 + \\sigma_2u_2v_2 + \\cdots + \\sigma_mu_mv_m + \\mathcal{0} + \\cdots + \\mathcal{0}$ (n-m пъти)\n",
    "6. Разни означения:\n",
    "$$\n",
    "U = \\begin{pmatrix}\n",
    "|&| &  & |\\\\\n",
    "u_1&u_2 & \\cdots & u_n\\\\ \n",
    "|&| &  & |\n",
    "\\end{pmatrix}_{n \\times n}\n",
    "$$\n",
    "\n",
    "$$ \n",
    "\\Sigma ={ \\begin{pmatrix}\n",
    "\\sigma_1 & &\\\\\n",
    "& \\ddots &\\\\ \n",
    "& & \\sigma_m\\\\\n",
    "\\hline \\\\\n",
    "& \\huge0 &\n",
    "\\end{pmatrix}}_{n \\times m}\n",
    "$$\n",
    "\n",
    "$$\n",
    "V = \\begin{pmatrix}\n",
    "\\textemdash & v_1^t & \\textemdash\\\\\n",
    "\\textemdash & v_2^t & \\textemdash\\\\\n",
    " & \\cdots & \\\\ \n",
    "\\textemdash & v_n^t & \\textemdash\n",
    "\\end{pmatrix}_{m \\times m}\n",
    "$$\n",
    "\n",
    "## 3. SVD implementation \n",
    "## 4. References \n",
    "https://python.quantecon.org/svd_intro.html\n",
    "\n",
    "https://en.wikipedia.org/wiki/Singular_value_decomposition\n",
    "\n",
    "https://databookuw.com/page-2/page-4/\n",
    "\n",
    "https://www.physicsread.com/latex-matrix/"
   ]
  },
  {
   "cell_type": "code",
   "execution_count": null,
   "id": "769dd9c9-f90d-4b9a-8c10-2b61a612d79e",
   "metadata": {},
   "outputs": [],
   "source": []
  }
 ],
 "metadata": {
  "kernelspec": {
   "display_name": "Python 3 (ipykernel)",
   "language": "python",
   "name": "python3"
  },
  "language_info": {
   "codemirror_mode": {
    "name": "ipython",
    "version": 3
   },
   "file_extension": ".py",
   "mimetype": "text/x-python",
   "name": "python",
   "nbconvert_exporter": "python",
   "pygments_lexer": "ipython3",
   "version": "3.11.7"
  }
 },
 "nbformat": 4,
 "nbformat_minor": 5
}
